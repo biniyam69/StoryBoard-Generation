{
 "cells": [
  {
   "cell_type": "code",
   "execution_count": 20,
   "metadata": {},
   "outputs": [],
   "source": [
    "import torch \n",
    "import requests\n",
    "from PIL import Image\n",
    "from io import BytesIO\n",
    "import matplotlib.pyplot as plt\n",
    "import replicate, json, sys, os\n",
    "from typing import Literal, Optional, Tuple"
   ]
  },
  {
   "cell_type": "code",
   "execution_count": 2,
   "metadata": {},
   "outputs": [],
   "source": [
    "data = {\n",
    "        \"concept\": \"Escape Challenge Teaser\",\n",
    "        \"implementation\": {\n",
    "            \"frame_1\": {\n",
    "                \"description\": \"The ad begins with a suspenseful animation of a LEGO CITY set, with the tagline 'YOUR CITY, NO LIMITS' and a countdown timer.\",\n",
    "                \"interaction_type\": \"Tap\",\n",
    "                \"next_frame\": \"frame_2\",\n",
    "                \"duration\": \"5 seconds\"\n",
    "            },\n",
    "            \"frame_2\": {\n",
    "                \"description\": \"The scene transitions to a series of quick, exciting clips showcasing various challenges in the 'ULTIMATE ESCAPE CHALLENGE'.\",\n",
    "                \"interaction_type\": \"Swipe\",\n",
    "                \"next_frame\": \"frame_3\",\n",
    "                \"duration\": \"10 seconds\"\n",
    "            },\n",
    "            \"frame_3\": {\n",
    "                \"description\": \"The final frame reveals the LEGO CITY 2024 logo and a 'Play Now' button, inviting users to join the challenge on the LEGO website.\",\n",
    "                \"interaction_type\": \"Tap\",\n",
    "                \"next_frame\": \"end-of-advertisement\",\n",
    "                \"duration\": \"5 seconds\"\n",
    "            }\n",
    "        },\n",
    "        \"explanation\": \"This concept aligns with LEGO CITY's brand identity of providing fun and entertainment. It appeals to the target demographic's interest in games and challenges, and it achieves the campaign's objectives of enhancing audience engagement, increasing product and brand awareness, and driving traffic to the brand's website. The concept is scalable and can be adapted for various platforms and audiences. It can be executed within the given budget constraints.\",\n",
    "        \"asset_suggestions\": [\n",
    "            {\n",
    "                \"frame_1\": {\n",
    "                    \"Background Animation\": \"A suspenseful animation of a LEGO CITY set, with buildings, vehicles, and mini-figures coming to life in a dynamic, 3D environment. The animation is designed to captivate the viewer's attention and set the stage for the upcoming challenge.\",\n",
    "                    \"Tagline\": \"'YOUR CITY, NO LIMITS' appears in bold, vibrant letters, reinforcing the campaign's theme of boundless creativity and adventure.\",\n",
    "                    \"Countdown Timer\": \"A digital countdown timer, styled to resemble LEGO bricks, adds an element of suspense and anticipation, building up to the reveal of the 'ULTIMATE ESCAPE CHALLENGE'.\"\n",
    "                },\n",
    "                \"frame_2\": {\n",
    "                    \"Video Clips\": \"A series of quick, exciting clips showcasing various challenges in the 'ULTIMATE ESCAPE CHALLENGE'. Each clip features different LEGO CITY sets and mini-figures, highlighting the diversity and expansiveness of the LEGO CITY universe.\",\n",
    "                    \"Swipe Indicator\": \"A subtle, animated swipe indicator encourages viewers to interact with the ad and explore the different challenges.\"\n",
    "                },\n",
    "                \"frame_3\": {\n",
    "                    \"Logo\": \"The LEGO CITY 2024 logo, designed with the iconic LEGO brick pattern, reinforces brand recognition and ties the ad back to the product line.\",\n",
    "                    \"CTA Button\": \"A 'Play Now' button, styled to resemble a LEGO brick, invites users to join the challenge on the LEGO website. The button is strategically placed to be easily noticeable and accessible, encouraging viewers to take immediate action.\"\n",
    "                },\n",
    "                \"explanation\": \"This variation aligns with the creative brief by effectively promoting the LEGO CITY 2024 product line and the 'ULTIMATE ESCAPE CHALLENGE'. The suspenseful animation and countdown timer in the first frame capture the viewer's attention and set the stage for the challenge. The quick, exciting clips in the second frame showcase the diversity and expansiveness of the LEGO CITY universe, appealing to the target audience's interest in games and challenges. The LEGO CITY 2024 logo and 'Play Now' button in the final frame reinforce brand recognition and drive traffic to the brand's website, achieving the campaign's objectives of enhancing audience engagement and increasing product and brand awareness.\"\n",
    "            },\n",
    "            {\n",
    "                \"frame_1\": {\n",
    "                    \"Background\": \"A lively, animated cityscape made entirely of LEGO CITY sets. The cityscape should be filled with LEGO characters engaging in various activities, showcasing the fun and entertainment offered by the LEGO CITY universe.\",\n",
    "                    \"Logo\": \"The LEGO logo appears prominently at the center of the frame, reinforcing brand recognition.\",\n",
    "                    \"Tagline\": \"'YOUR CITY, NO LIMITS' appears in bold, colorful font, capturing the frame's message and the campaign's overarching theme.\",\n",
    "                    \"Interactive Element\": \"A 'Tap to Begin' button, inviting viewers to interact with the ad.\"\n",
    "                },\n",
    "                \"frame_2\": {\n",
    "                    \"Background\": \"A blank, grid-like canvas that serves as the foundation for the viewer's LEGO city.\",\n",
    "                    \"Toolbox\": \"A toolbox filled with various LEGO CITY sets appears at the bottom of the screen. Each set should be clearly visible and identifiable, showcasing the product range.\",\n",
    "                    \"Interactive Element\": \"The 'Drag and Drop' feature, allowing viewers to select LEGO sets from the toolbox and place them onto the canvas.\"\n",
    "                },\n",
    "                \"frame_3\": {\n",
    "                    \"Background\": \"The viewer's city, coming to life as they add LEGO sets. The city should be animated, with LEGO characters and vehicles moving around.\",\n",
    "                    \"Sound Effects\": \"Sound effects that correspond to the viewer's actions, enhancing the immersive experience.\",\n",
    "                    \"Interactive Element\": \"The 'Tap to Animate' feature, allowing viewers to animate their city by tapping on the LEGO sets.\"\n",
    "                },\n",
    "                \"frame_4\": {\n",
    "                    \"Background\": \"The viewer's fully built and animated LEGO city.\",\n",
    "                    \"CTA\": \"A 'Start Challenge' button that invites the viewer to start the 'ULTIMATE ESCAPE CHALLENGE', driving traffic to the brand's website.\",\n",
    "                    \"Interactive Element\": \"The 'Tap to Start Challenge' feature, prompting viewers to interact with the ad and engage with the brand.\"\n",
    "                },\n",
    "                \"explanation\": \"This variation aligns with the concept and brief by leveraging interactive elements and product imagery to engage the target audience and promote the LEGO CITY product line. The lively cityscape in Frame 1 captures the viewer's attention and sets the stage for the interactive experience. The toolbox in Frame 2 showcases the product range and allows viewers to engage with the ad by building their own city. The animations and sound effects in Frame 3 enhance the immersive experience and foster creativity, aligning with the brand's identity. The 'Start Challenge' button in Frame 4 drives traffic to the brand's website, achieving the campaign's objectives. The assets across frames work together to create a cohesive narrative that resonates with the target audience and promotes the LEGO CITY brand.\"\n",
    "            },\n",
    "            {\n",
    "                \"frame_1\": {\n",
    "                    \"Background\": \"A vibrant, detailed image of a LEGO CITY set, showcasing key features like buildings, vehicles, and mini-figures\",\n",
    "                    \"Interactive Element\": \"'Choose Your Adventure' prompt, a large, colorful button placed strategically to draw attention\",\n",
    "                    \"Logo\": \"LEGO logo placed subtly in the corner to reinforce brand recognition\"\n",
    "                },\n",
    "                \"frame_2\": {\n",
    "                    \"Animation\": \"A unique, engaging animation that brings the chosen part of the city to life, highlighting the fun and creativity of LEGO CITY\",\n",
    "                    \"Interactive Element\": \"Swipe functionality to allow users to navigate through the story\",\n",
    "                    \"Text\": \"Brief, compelling text that narrates the story and enhances the viewer's immersion\"\n",
    "                },\n",
    "                \"frame_3\": {\n",
    "                    \"CTA\": \"'Continue the Adventure' button, designed to be eye-catching and compelling, prompting users to visit the LEGO website\",\n",
    "                    \"Ending Scene\": \"A cliffhanger scene that leaves viewers eager to continue the adventure\",\n",
    "                    \"Logo\": \"LEGO logo, slightly more prominent to reinforce brand identity\"\n",
    "                },\n",
    "                \"explanation\": \"This variation aligns with the creative brief by leveraging the interactive storytelling concept to engage the target audience of boys aged 6-8. The detailed LEGO CITY set image in frame 1 captures viewers' attention and invites them to interact with the ad. The animation in frame 2 immerses viewers in the LEGO CITY universe, enhancing their engagement and increasing product awareness. The cliffhanger and CTA in frame 3 drive traffic to the LEGO website, contributing to the campaign's objectives. The consistent use of the LEGO logo across frames reinforces brand recognition.\"\n",
    "            },\n",
    "            {\n",
    "                \"frame_1\": {\n",
    "                    \"Background\": \"A vibrant, bustling LEGO CITY, meticulously crafted with LEGO bricks, showcasing a bird's-eye view. The city is alive with miniature LEGO citizens, vehicles, and buildings, reflecting the brand's commitment to detail and creativity.\",\n",
    "                    \"Interactive Element\": \"A 'Start Tour' button, designed in LEGO's signature bright colors, inviting users to tap and begin their exploration of the city.\",\n",
    "                    \"Logo\": \"The LEGO logo, subtly placed in the corner to reinforce brand recognition without distracting from the city view.\"\n",
    "                },\n",
    "                \"frame_2\": {\n",
    "                    \"Background\": \"A first-person view of the LEGO CITY, immersing users in the cityscape. The city is filled with diverse LEGO buildings, each showcasing unique architectural designs and features.\",\n",
    "                    \"Interactive Element\": \"Swipe functionality, allowing users to navigate through the city. Tappable buildings, each revealing fun facts or trivia about the building when tapped, engaging users and enhancing their knowledge of LEGO CITY.\",\n",
    "                    \"Text\": \"Brief, engaging descriptions that pop up when a building is tapped, providing information about the building in a fun and educational manner.\"\n",
    "                },\n",
    "                \"frame_3\": {\n",
    "                    \"Background\": \"A final view of the LEGO CITY, with the cityscape subtly transitioning into the LEGO CITY 2024 logo.\",\n",
    "                    \"Interactive Element\": \"A 'Join the City' button, designed in LEGO's signature colors, directing users to the LEGO website.\",\n",
    "                    \"Logo\": \"The LEGO CITY 2024 logo, prominently displayed to reinforce product awareness and brand recognition.\"\n",
    "                },\n",
    "                \"explanation\": \"This variation aligns with the 'City Tour' concept by providing an interactive tour of a LEGO CITY, engaging users and enhancing their knowledge of the product. The use of vibrant colors and detailed LEGO buildings reflects the brand's commitment to creativity and detail, appealing to the target demographic's interest in exploration and discovery. The interactive elements, such as the 'Start Tour' and 'Join the City' buttons and the tappable buildings, enhance audience engagement and drive traffic to the brand's website, achieving the campaign's objectives. The LEGO and LEGO CITY 2024 logos reinforce brand and product awareness, contributing to the campaign's success.\"\n",
    "            },\n",
    "            {\n",
    "                \"frame_1\": {\n",
    "                    \"Background\": \"A vibrant, bustling LEGO CITY set, showcasing key features like the police station, fire station, and various vehicles\",\n",
    "                    \"Foreground\": \"A large, eye-catching 'Test Your Knowledge' prompt in LEGO's signature yellow and red colors\",\n",
    "                    \"Interactive Element\": \"A 'Tap to Start' button, inviting users to engage with the ad\"\n",
    "                },\n",
    "                \"frame_2\": {\n",
    "                    \"Background\": \"A series of LEGO CITY scenes related to the quiz questions\",\n",
    "                    \"Foreground\": \"Multiple-choice questions in playful, kid-friendly fonts\",\n",
    "                    \"Interactive Element\": \"Answer options that users can tap on to proceed\"\n",
    "                },\n",
    "                \"frame_3\": {\n",
    "                    \"Background\": \"A celebratory scene with LEGO characters cheering\",\n",
    "                    \"Foreground\": \"The user's score displayed in large, bold numbers\",\n",
    "                    \"Interactive Element\": \"A 'Learn More' button, directing users to the LEGO website\"\n",
    "                },\n",
    "                \"explanation\": \"This variation emphasizes the interactive and educational aspects of the LEGO CITY Quiz concept. The vibrant LEGO CITY set in the first frame captures the viewer's attention and sets the stage for the quiz. The multiple-choice questions in the second frame engage the viewer's curiosity and stimulate their knowledge about LEGO CITY. The celebratory scene in the third frame rewards the viewer's participation and encourages them to learn more about LEGO CITY on the brand's website. This variation aligns with the campaign's objectives of enhancing audience engagement, increasing product and brand awareness, and driving traffic to the brand's website.\"\n",
    "            }\n",
    "        ]\n",
    "    }"
   ]
  },
  {
   "cell_type": "code",
   "execution_count": 13,
   "metadata": {},
   "outputs": [
    {
     "data": {
      "text/plain": [
       "{'description': \"The ad begins with a suspenseful animation of a LEGO CITY set, with the tagline 'YOUR CITY, NO LIMITS' and a countdown timer.\",\n",
       " 'interaction_type': 'Tap',\n",
       " 'next_frame': 'frame_2',\n",
       " 'duration': '5 seconds'}"
      ]
     },
     "execution_count": 13,
     "metadata": {},
     "output_type": "execute_result"
    }
   ],
   "source": [
    "data['implementation']['frame_1']"
   ]
  },
  {
   "cell_type": "code",
   "execution_count": 15,
   "metadata": {},
   "outputs": [
    {
     "name": "stdout",
     "output_type": "stream",
     "text": [
      "Frame frame_1\n",
      "{'description': \"The ad begins with a suspenseful animation of a LEGO CITY set, with the tagline 'YOUR CITY, NO LIMITS' and a countdown timer.\", 'interaction_type': 'Tap', 'next_frame': 'frame_2', 'duration': '5 seconds'}\n",
      "Frame frame_2\n",
      "{'description': \"The scene transitions to a series of quick, exciting clips showcasing various challenges in the 'ULTIMATE ESCAPE CHALLENGE'.\", 'interaction_type': 'Swipe', 'next_frame': 'frame_3', 'duration': '10 seconds'}\n",
      "Frame frame_3\n",
      "{'description': \"The final frame reveals the LEGO CITY 2024 logo and a 'Play Now' button, inviting users to join the challenge on the LEGO website.\", 'interaction_type': 'Tap', 'next_frame': 'end-of-advertisement', 'duration': '5 seconds'}\n"
     ]
    }
   ],
   "source": [
    "for frame_name, frame_data in data['implementation'].items():\n",
    "    print(f\"Frame {frame_name}\")\n",
    "    print(frame_data)\n"
   ]
  },
  {
   "cell_type": "code",
   "execution_count": 18,
   "metadata": {},
   "outputs": [
    {
     "name": "stdout",
     "output_type": "stream",
     "text": [
      "[\"The ad begins with a suspenseful animation of a LEGO CITY set, with the tagline 'YOUR CITY, NO LIMITS' and a countdown timer.\", \"The scene transitions to a series of quick, exciting clips showcasing various challenges in the 'ULTIMATE ESCAPE CHALLENGE'.\", \"The final frame reveals the LEGO CITY 2024 logo and a 'Play Now' button, inviting users to join the challenge on the LEGO website.\"]\n"
     ]
    }
   ],
   "source": [
    "combined_prompt = []\n",
    "for frame_name, frame_data in data['implementation'].items():\n",
    "    combined_prompt.append(frame_data['description'])\n",
    "    \n",
    "print(combined_prompt)\n"
   ]
  },
  {
   "cell_type": "code",
   "execution_count": 28,
   "metadata": {},
   "outputs": [],
   "source": [
    "import replicate\n",
    "import logging\n",
    "import requests\n",
    "os.environ[\"REPLICATE_API_TOKEN\"] = \"r8_UbIKKDB3ZgnPyZWGCRWv8janUuULY6C2mIzxQ\""
   ]
  },
  {
   "cell_type": "code",
   "execution_count": 34,
   "metadata": {},
   "outputs": [
    {
     "data": {
      "text/plain": [
       "['https://replicate.delivery/pbxt/nqEZcV8rpK4pBtBor3SuZBcezCE5paS8cXXQK2hfMaARnfukA/de501853-fa0c-4868-b6eb-6df6f47146d9.png']"
      ]
     },
     "execution_count": 34,
     "metadata": {},
     "output_type": "execute_result"
    }
   ],
   "source": [
    "import os\n",
    "import requests\n",
    "\n",
    "# Define the directory to save images\n",
    "SAVE_DIR = \"/home/biniyam/TenAcademy/StoryBoard-Generation/images\"\n",
    "\n",
    "# Ensure the directory exists, if not create it\n",
    "os.makedirs(SAVE_DIR, exist_ok=True)\n",
    "\n",
    "def generate_image(prompt: str, filename: str, performance_selection: Literal['Speed', 'Quality', 'Extreme Speed'] = \"Extreme Speed\", \n",
    "                       aspect_ratios_selection: str = \"1024*1024\", image_seed: int = 1234, sharpness: int = 2) -> Optional[dict]:\n",
    "        \"\"\"\n",
    "        Generates an image based on the given prompt and settings.\n",
    "\n",
    "        :param prompt: Textual description of the image to generate.\n",
    "        :param filename: The filename to save the image as.\n",
    "        :param performance_selection: Choice of performance level affecting generation speed and quality.\n",
    "        :param aspect_ratio: The desired aspect ratio of the generated image.\n",
    "        :param image_seed: Seed for the image generation process for reproducibility.\n",
    "        :param sharpness: The sharpness level of the generated image.\n",
    "        :return: The generated image or None if an error occurred.\n",
    "        \"\"\"\n",
    "        try:\n",
    "            output = replicate.run(\n",
    "                \"konieshadow/fooocus-api-anime:a750658f54c4f8bec1c8b0e352ce2666c22f2f919d391688ff4fc16e48b3a28f\",\n",
    "                input={\n",
    "                    \"prompt\": prompt,\n",
    "                    \"performance_selection\": performance_selection,\n",
    "                    \"aspect_ratios_selection\": aspect_ratios_selection,\n",
    "                    \"image_seed\": image_seed,\n",
    "                    \"sharpness\": sharpness\n",
    "                }\n",
    "            )\n",
    "            logging.info(\"Image generated successfully.\")\n",
    "            \n",
    "            # Check if output is a list containing image URLs\n",
    "            if isinstance(output, list) and all(isinstance(item, str) for item in output):\n",
    "                for url in output:\n",
    "                    # Download the image from the URL\n",
    "                    response = requests.get(url)\n",
    "                    if response.status_code == 200:\n",
    "                        # Save the image with the specified filename\n",
    "                        image_path = os.path.join(SAVE_DIR, filename)\n",
    "                        \n",
    "                        # Save the image\n",
    "                        with open(image_path, 'wb') as f:\n",
    "                            f.write(response.content)\n",
    "                        \n",
    "                        logging.info(f\"Image saved to: {image_path}\")\n",
    "                    else:\n",
    "                        logging.warning(f\"Failed to download image from URL: {url}\")\n",
    "            else:\n",
    "                logging.warning(\"Invalid output format: expecting a list of image URLs.\")\n",
    "            \n",
    "            return output\n",
    "        except Exception as e:\n",
    "            logging.error(f\"Failed to generate image: {e}\")\n",
    "            return None\n",
    "\n",
    "# Usage example\n",
    "init_prompt = combined_prompt[0]\n",
    "generate_image(init_prompt, \"frame_1.jpg\")\n"
   ]
  },
  {
   "cell_type": "code",
   "execution_count": 32,
   "metadata": {},
   "outputs": [
    {
     "data": {
      "text/plain": [
       "['https://replicate.delivery/pbxt/sZzW9Zcnv8okM5wKEtU12ZnIUdUh2r3HpHwAnUm2oU5033lE/0970c0d5-71e2-4ddf-9cdc-b770e33a223e.png']"
      ]
     },
     "execution_count": 32,
     "metadata": {},
     "output_type": "execute_result"
    }
   ],
   "source": [
    "generate_image(init_prompt, performance_selection=\"Extreme Speed\", aspect_ratios_selection=\"1024*1024\", image_seed=1234, sharpness=2)"
   ]
  },
  {
   "cell_type": "markdown",
   "metadata": {},
   "source": [
    "### Gen From Image"
   ]
  },
  {
   "cell_type": "code",
   "execution_count": 39,
   "metadata": {},
   "outputs": [],
   "source": [
    "def gen_from_img(prompt: str, filename: str, performance_selection: Literal['Speed', 'Quality', 'Extreme Speed'] = \"Extreme Speed\", \n",
    "                       aspect_ratios_selection: str = \"1024*1024\", image_seed: int = 1234, sharpness: int = 2, cn_img1: str = \"https://replicate.delivery/pbxt/sZzW9Zcnv8okM5wKEtU12ZnIUdUh2r3HpHwAnUm2oU5033lE/0970c0d5-71e2-4ddf-9cdc-b770e33a223e.png\") -> Optional[dict]:\n",
    "        \"\"\"\n",
    "        Generates an image based on the given prompt and settings.\n",
    "\n",
    "        :param prompt: Textual description of the image to generate.\n",
    "        :param filename: The filename to save the image as.\n",
    "        :param performance_selection: Choice of performance level affecting generation speed and quality.\n",
    "        :param aspect_ratio: The desired aspect ratio of the generated image.\n",
    "        :param image_seed: Seed for the image generation process for reproducibility.\n",
    "        :param sharpness: The sharpness level of the generated image.\n",
    "        :return: The generated image or None if an error occurred.\n",
    "        \"\"\"\n",
    "        try:\n",
    "            output = replicate.run(\n",
    "                \"konieshadow/fooocus-api-anime:a750658f54c4f8bec1c8b0e352ce2666c22f2f919d391688ff4fc16e48b3a28f\",\n",
    "                input={\n",
    "                    \"prompt\": prompt,\n",
    "                    \"performance_selection\": performance_selection,\n",
    "                    \"aspect_ratios_selection\": aspect_ratios_selection,\n",
    "                    \"image_seed\": image_seed,\n",
    "                    \"sharpness\": sharpness,\n",
    "                    \"cn_img1\": cn_img1,\n",
    "                    \"cn_stop1\": 1\n",
    "                }\n",
    "            )\n",
    "            logging.info(\"Image generated successfully.\")\n",
    "            \n",
    "            if isinstance(output, list) and all(isinstance(item, str) for item in output):\n",
    "                for url in output:\n",
    "                    # Download the image from the URL\n",
    "                    response = requests.get(url)\n",
    "                    if response.status_code == 200:\n",
    "                        # Save the image with the specified filename\n",
    "                        image_path = os.path.join(SAVE_DIR, filename)\n",
    "                        \n",
    "                        # Save the image\n",
    "                        with open(image_path, 'wb') as f:\n",
    "                            f.write(response.content)\n",
    "                        \n",
    "                        logging.info(f\"Image saved to: {image_path}\")\n",
    "                    else:\n",
    "                        logging.warning(f\"Failed to download image from URL: {url}\")\n",
    "            else:\n",
    "                logging.warning(\"Invalid output format: expecting a list of image URLs.\")\n",
    "            \n",
    "            return output\n",
    "        except Exception as e:\n",
    "            logging.error(f\"Failed to generate image: {e}\")\n",
    "            return None\n",
    "\n",
    "\n",
    "prompt = combined_prompt[1]"
   ]
  },
  {
   "cell_type": "code",
   "execution_count": 36,
   "metadata": {},
   "outputs": [
    {
     "data": {
      "text/plain": [
       "\"The scene transitions to a series of quick, exciting clips showcasing various challenges in the 'ULTIMATE ESCAPE CHALLENGE'.\""
      ]
     },
     "execution_count": 36,
     "metadata": {},
     "output_type": "execute_result"
    }
   ],
   "source": [
    "prompt"
   ]
  },
  {
   "cell_type": "code",
   "execution_count": 41,
   "metadata": {},
   "outputs": [
    {
     "data": {
      "text/plain": [
       "['https://replicate.delivery/pbxt/rCvYggeZfpqEZEqnLNLDk3vNsMfqQ8fTgFzgblFWbHEpwieSC/6a109f1e-4028-4526-9819-0414d0acbdaa.png']"
      ]
     },
     "execution_count": 41,
     "metadata": {},
     "output_type": "execute_result"
    }
   ],
   "source": [
    "gen_from_img(prompt=prompt, filename=\"frame_2.jpg\", performance_selection=\"Extreme Speed\", aspect_ratios_selection=\"1024*1024\", image_seed=1234, sharpness=2, cn_img1='https://replicate.delivery/pbxt/sZzW9Zcnv8okM5wKEtU12ZnIUdUh2r3HpHwAnUm2oU5033lE/0970c0d5-71e2-4ddf-9cdc-b770e33a223e.png')"
   ]
  },
  {
   "cell_type": "code",
   "execution_count": null,
   "metadata": {},
   "outputs": [],
   "source": []
  }
 ],
 "metadata": {
  "kernelspec": {
   "display_name": "ten",
   "language": "python",
   "name": "python3"
  },
  "language_info": {
   "codemirror_mode": {
    "name": "ipython",
    "version": 3
   },
   "file_extension": ".py",
   "mimetype": "text/x-python",
   "name": "python",
   "nbconvert_exporter": "python",
   "pygments_lexer": "ipython3",
   "version": "3.11.5"
  }
 },
 "nbformat": 4,
 "nbformat_minor": 2
}
